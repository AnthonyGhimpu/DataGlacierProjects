{
 "cells": [
  {
   "cell_type": "code",
   "execution_count": 2,
   "metadata": {},
   "outputs": [
    {
     "name": "stdout",
     "output_type": "stream",
     "text": [
      "Writing testutility.py\n"
     ]
    }
   ],
   "source": [
    "%%writefile testutility.py\n",
    "import logging\n",
    "import os\n",
    "import subprocess\n",
    "import yaml\n",
    "import pandas as pd\n",
    "import datetime \n",
    "import gc\n",
    "import re\n",
    "\n",
    "def readConfigFile(file):\n",
    "    with open(file,'r') as stream:\n",
    "        try:\n",
    "            return yaml.safe_load(stream)\n",
    "        except yaml.YAMLError as error:\n",
    "            return logging.error(error)\n",
    "\n",
    "def replacer(string, char):\n",
    "    pattern = char +'{2,}'\n",
    "    string = re.sub(pattern,char, string)\n",
    "    return string\n",
    "\n",
    "def col_header_val(df,table_config):\n",
    "    df.columns = df.columns.str.lower()\n",
    "    df.columns = df.columns.str.replace('[^\\w]','_',regex = True)\n",
    "    df.columns = list(map(lambda x: x.strip('_'),list(df.columns)))\n",
    "    df.columns = list(map(lambda x: replacer(x,'_'),list(df.columns)))\n",
    "    expected_col = list(map(lambda x: x.lower(),list(table_config['columns'])))\n",
    "    expected_col.sort()\n",
    "    df.columns = list(map(lambda x: x.lower(),list(df.columns)))\n",
    "    df = df.reindex(sorted(df.columns),axis=1)\n",
    "\n",
    "    if len(df.columns) == len(expected_col) and list(expected_col) == list(df.columns):\n",
    "        print('Col names and col len validation passed')\n",
    "        return 1\n",
    "    else:\n",
    "        print('Col names and col len validation failed')\n",
    "        mismatched_col_file = list(set(df.columns).difference(expected_col))\n",
    "        print('The following cols are not in the YAML File',mismatched_col_file)\n",
    "        missing_YAML = list(set(expected_col).difference(df.columns))\n",
    "        print('Following YAML cols are not in the file',missing_YAML)\n",
    "        logging.info(f'df.columns:{df.columns}')\n",
    "        logging.info(f'expected columns:{expected_col}')\n",
    "        return 0\n"
   ]
  },
  {
   "cell_type": "code",
   "execution_count": 1,
   "metadata": {},
   "outputs": [
    {
     "name": "stdout",
     "output_type": "stream",
     "text": [
      "Overwriting file.yaml\n"
     ]
    }
   ],
   "source": [
    "%%writefile file.yaml\n",
    "file_type: csv\n",
    "dataset_name: washingtonViolations\n",
    "file_name: WA\n",
    "table_name: edsurv\n",
    "inbound_delimiter: \",\"\n",
    "outbound_delimiter: \"|\"\n",
    "skip_leading_rows: 1\n",
    "columns:\n",
    "    - id\n",
    "    - stop_date\n",
    "    - location_raw\n",
    "    - driver_gender\n",
    "    - driver_age\n",
    "    - violation\n",
    "    - stop_outcome\n",
    " \n"
   ]
  },
  {
   "cell_type": "code",
   "execution_count": 2,
   "metadata": {},
   "outputs": [],
   "source": [
    "import testutility as util\n",
    "config_data = util.readConfigFile('file.yaml')"
   ]
  },
  {
   "cell_type": "code",
   "execution_count": 3,
   "metadata": {},
   "outputs": [
    {
     "data": {
      "text/plain": [
       "{'file_type': 'csv',\n",
       " 'dataset_name': 'washingtonViolations',\n",
       " 'file_name': 'WA',\n",
       " 'table_name': 'edsurv',\n",
       " 'inbound_delimiter': ',',\n",
       " 'outbound_delimiter': '|',\n",
       " 'skip_leading_rows': 1,\n",
       " 'columns': ['id',\n",
       "  'stop_date',\n",
       "  'location_raw',\n",
       "  'driver_gender',\n",
       "  'driver_age',\n",
       "  'violation',\n",
       "  'stop_outcome']}"
      ]
     },
     "execution_count": 3,
     "metadata": {},
     "output_type": "execute_result"
    }
   ],
   "source": [
    "config_data\n",
    "#dict"
   ]
  },
  {
   "cell_type": "code",
   "execution_count": 4,
   "metadata": {},
   "outputs": [
    {
     "name": "stderr",
     "output_type": "stream",
     "text": [
      "c:\\Users\\antho\\anaconda3\\lib\\site-packages\\IPython\\core\\interactiveshell.py:3444: FutureWarning: In a future version of pandas all arguments of read_csv except for the argument 'filepath_or_buffer' will be keyword-only\n",
      "  exec(code_obj, self.user_global_ns, self.user_ns)\n"
     ]
    }
   ],
   "source": [
    "#read file using YAML preset\n",
    "import pandas as pd\n",
    "file_type = config_data['file_type']\n",
    "source_file = './'+config_data['file_name'] + f'.{file_type}'\n",
    "df = pd.read_csv(source_file,config_data['inbound_delimiter'])"
   ]
  },
  {
   "cell_type": "code",
   "execution_count": 1,
   "metadata": {},
   "outputs": [
    {
     "ename": "NameError",
     "evalue": "name 'util' is not defined",
     "output_type": "error",
     "traceback": [
      "\u001b[1;31m---------------------------------------------------------------------------\u001b[0m",
      "\u001b[1;31mNameError\u001b[0m                                 Traceback (most recent call last)",
      "\u001b[1;32m~\\AppData\\Local\\Temp/ipykernel_13252/1879839723.py\u001b[0m in \u001b[0;36m<module>\u001b[1;34m\u001b[0m\n\u001b[1;32m----> 1\u001b[1;33m \u001b[0mutil\u001b[0m\u001b[1;33m.\u001b[0m\u001b[0mcol_header_val\u001b[0m\u001b[1;33m(\u001b[0m\u001b[0mdf\u001b[0m\u001b[1;33m,\u001b[0m\u001b[0mconfig_data\u001b[0m\u001b[1;33m)\u001b[0m\u001b[1;33m\u001b[0m\u001b[1;33m\u001b[0m\u001b[0m\n\u001b[0m\u001b[0;32m      2\u001b[0m \u001b[1;33m\u001b[0m\u001b[0m\n",
      "\u001b[1;31mNameError\u001b[0m: name 'util' is not defined"
     ]
    }
   ],
   "source": [
    "util.col_header_val(df,config_data)\n",
    " "
   ]
  },
  {
   "cell_type": "code",
   "execution_count": 8,
   "metadata": {},
   "outputs": [
    {
     "name": "stderr",
     "output_type": "stream",
     "text": [
      "c:\\Users\\antho\\anaconda3\\lib\\site-packages\\IPython\\core\\interactiveshell.py:3444: FutureWarning: In a future version of pandas all arguments of read_csv except for the argument 'filepath_or_buffer' will be keyword-only\n",
      "  exec(code_obj, self.user_global_ns, self.user_ns)\n"
     ]
    }
   ],
   "source": [
    "f = open('summary.txt','w')\n",
    "f.write('File Size: '+ str(os.path.getsize(source_file) * 10 ** -9) + ' GB' + '\\n' + 'Total # of Rows: ' + str(len(pd.read_csv(source_file,config_data['inbound_delimiter']).index)) + '\\n' + 'Total # of Columns: ' +  str(len(pd.read_csv(source_file,config_data['inbound_delimiter']).columns)))\n",
    "\n",
    "f.close()"
   ]
  },
  {
   "cell_type": "code",
   "execution_count": null,
   "metadata": {},
   "outputs": [],
   "source": [
    "import csv\n",
    "reader = csv.reader(open(source_file, newline=None), delimiter=config_data['inbound_delimiter'])\n",
    "writer = csv.writer(open('output.csv', 'w'), delimiter=config_data['outbound_delimiter'])\n",
    "writer.writerows(reader)"
   ]
  },
  {
   "cell_type": "code",
   "execution_count": null,
   "metadata": {},
   "outputs": [],
   "source": []
  }
 ],
 "metadata": {
  "kernelspec": {
   "display_name": "Python 3.9.7 ('base')",
   "language": "python",
   "name": "python3"
  },
  "language_info": {
   "codemirror_mode": {
    "name": "ipython",
    "version": 3
   },
   "file_extension": ".py",
   "mimetype": "text/x-python",
   "name": "python",
   "nbconvert_exporter": "python",
   "pygments_lexer": "ipython3",
   "version": "3.9.7"
  },
  "orig_nbformat": 4,
  "vscode": {
   "interpreter": {
    "hash": "e86a25bf2cd4bc761420a9f9e4dfd048d62ee8348594e72ec02833304a144dc0"
   }
  }
 },
 "nbformat": 4,
 "nbformat_minor": 2
}
