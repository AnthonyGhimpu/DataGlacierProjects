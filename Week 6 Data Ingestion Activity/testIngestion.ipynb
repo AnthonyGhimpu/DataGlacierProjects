{
 "cells": [
  {
   "cell_type": "code",
   "execution_count": 32,
   "metadata": {},
   "outputs": [
    {
     "name": "stdout",
     "output_type": "stream",
     "text": [
      "Overwriting testutility.py\n"
     ]
    }
   ],
   "source": [
    "%%writefile testutility.py\n",
    "import logging\n",
    "import os\n",
    "import subprocess\n",
    "import yaml\n",
    "import pandas as pd\n",
    "import datetime \n",
    "import gc\n",
    "import re\n",
    "\n",
    "def readConfigFile(file):\n",
    "    with open(file,'r') as stream:\n",
    "        try:\n",
    "            return yaml.safe_load(stream)\n",
    "        except yaml.YAMLError as error:\n",
    "            return logging.error(error)\n",
    "\n",
    "def replacer(string, char):\n",
    "    pattern = char +'{2,}'\n",
    "    string = re.sub(pattern,char, string)\n",
    "    return string\n",
    "\n",
    "def col_header_val(df,table_config):\n",
    "    df.columns = df.columns.str.lower()\n",
    "    df.columns = df.columns.str.replace('[^\\w]','_',regex = True)\n",
    "    df.columns = list(map(lambda x: x.strip('_'),list(df.columns)))\n",
    "    df.columns = list(map(lambda x: replacer(x,'_'),list(df.columns)))\n",
    "    expected_col = list(map(lambda x: x.lower(),list(table_config['columns'])))\n",
    "    expected_col.sort()\n",
    "    df.columns = list(map(lambda x: x.lower(),list(df.columns)))\n",
    "    df = df.reindex(sorted(df.columns),axis=1)\n",
    "\n",
    "    if len(df.columns) == len(expected_col) and list(expected_col) == list(df.columns):\n",
    "        print('Col names and col len validation passed')\n",
    "        return 1\n",
    "    else:\n",
    "        print('Col names and col len validation failed')\n",
    "        mismatched_col_file = list(set(df.columns).difference(expected_col))\n",
    "        print('The following cols are not in the YAML File',mismatched_col_file)\n",
    "        missing_YAML = list(set(expected_col).difference(df.columns))\n",
    "        print('Following YAML cols are not in the file',missing_YAML)\n",
    "        logging.info(f'df.columns:{df.columns}')\n",
    "        logging.info(f'expected columns:{expected_col}')\n",
    "        return 0\n"
   ]
  },
  {
   "cell_type": "code",
   "execution_count": 28,
   "metadata": {},
   "outputs": [
    {
     "name": "stdout",
     "output_type": "stream",
     "text": [
      "Overwriting file.yaml\n"
     ]
    }
   ],
   "source": [
    "%%writefile file.yaml\n",
    "file_type: csv\n",
    "dataset_name: washingtonViolations\n",
    "file_name: WA\n",
    "table_name: edsurv\n",
    "inbound_delimiter: \",\"\n",
    "outbound_delimiter: \"|\"\n",
    "skip_leading_rows: 1\n",
    "columns:\n",
    "    - id\n",
    "    - stop_date\n",
    "    - location_raw\n",
    "    - driver_gender\n",
    "    - driver_age\n",
    "    - violation\n",
    "    - stop_outcome\n",
    "    - aaaa\n"
   ]
  },
  {
   "cell_type": "code",
   "execution_count": 29,
   "metadata": {},
   "outputs": [],
   "source": [
    "import testutility as util\n",
    "config_data = util.readConfigFile('file.yaml')"
   ]
  },
  {
   "cell_type": "code",
   "execution_count": 23,
   "metadata": {},
   "outputs": [
    {
     "data": {
      "text/plain": [
       "{'file_type': 'csv',\n",
       " 'dataset_name': 'washingtonViolations',\n",
       " 'file_name': 'WA',\n",
       " 'table_name': 'edsurv',\n",
       " 'inbound_delimiter': ',',\n",
       " 'outbound_delimiter': '|',\n",
       " 'skip_leading_rows': 1,\n",
       " 'columns': ['id',\n",
       "  'stop_date',\n",
       "  'location_raw',\n",
       "  'driver_gender',\n",
       "  'driver_age',\n",
       "  'violation',\n",
       "  'stop_outcome',\n",
       "  'aaaa']}"
      ]
     },
     "execution_count": 23,
     "metadata": {},
     "output_type": "execute_result"
    }
   ],
   "source": [
    "config_data\n",
    "#dict"
   ]
  },
  {
   "cell_type": "code",
   "execution_count": 35,
   "metadata": {},
   "outputs": [
    {
     "name": "stderr",
     "output_type": "stream",
     "text": [
      "c:\\Users\\antho\\anaconda3\\lib\\site-packages\\IPython\\core\\interactiveshell.py:3444: FutureWarning: In a future version of pandas all arguments of read_csv except for the argument 'filepath_or_buffer' will be keyword-only\n",
      "  exec(code_obj, self.user_global_ns, self.user_ns)\n"
     ]
    }
   ],
   "source": [
    "#read file using YAML preset\n",
    "import pandas as pd\n",
    "file_type = config_data['file_type']\n",
    "source_file = './'+config_data['file_name'] + f'.{file_type}'\n",
    "df = pd.read_csv(source_file,config_data['inbound_delimiter'])"
   ]
  },
  {
   "cell_type": "code",
   "execution_count": 36,
   "metadata": {},
   "outputs": [
    {
     "name": "stdout",
     "output_type": "stream",
     "text": [
      "Col names are included within df...\n",
      "The following cols are not in the YAML File ['county_name', 'search_type', 'contraband_found', 'police_department', 'officer_id', 'violation_raw', 'lon', 'officer_gender', 'milepost', 'road_number', 'stop_time', 'search_conducted', 'fine_grained_location', 'highway_type', 'search_type_raw', 'contact_type', 'driver_age_raw', 'is_arrested', 'officer_race', 'driver_race', 'lat', 'drugs_related_stop', 'state', 'violations', 'driver_race_raw', 'county_fips', 'enforcements']\n"
     ]
    },
    {
     "data": {
      "text/plain": [
       "1"
      ]
     },
     "execution_count": 36,
     "metadata": {},
     "output_type": "execute_result"
    }
   ],
   "source": [
    "util.col_header_val(df,config_data)"
   ]
  },
  {
   "cell_type": "code",
   "execution_count": null,
   "metadata": {},
   "outputs": [],
   "source": []
  }
 ],
 "metadata": {
  "kernelspec": {
   "display_name": "Python 3.9.7 ('base')",
   "language": "python",
   "name": "python3"
  },
  "language_info": {
   "codemirror_mode": {
    "name": "ipython",
    "version": 3
   },
   "file_extension": ".py",
   "mimetype": "text/x-python",
   "name": "python",
   "nbconvert_exporter": "python",
   "pygments_lexer": "ipython3",
   "version": "3.9.7"
  },
  "orig_nbformat": 4,
  "vscode": {
   "interpreter": {
    "hash": "e86a25bf2cd4bc761420a9f9e4dfd048d62ee8348594e72ec02833304a144dc0"
   }
  }
 },
 "nbformat": 4,
 "nbformat_minor": 2
}
